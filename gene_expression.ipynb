{
 "cells": [
  {
   "cell_type": "code",
   "execution_count": null,
   "id": "72886dcc-ad30-4576-8fca-576bdaee3f51",
   "metadata": {},
   "outputs": [],
   "source": [
    "import pandas as pd\n",
    "df = pd.read_csv(\"gene_expression.csv\")\n",
    "df.head()"
   ]
  },
  {
   "cell_type": "code",
   "execution_count": 2,
   "id": "46ae139d-24b2-4bfa-9f2b-1f89bba52b56",
   "metadata": {},
   "outputs": [
    {
     "data": {
      "text/html": [
       "<div>\n",
       "<style scoped>\n",
       "    .dataframe tbody tr th:only-of-type {\n",
       "        vertical-align: middle;\n",
       "    }\n",
       "\n",
       "    .dataframe tbody tr th {\n",
       "        vertical-align: top;\n",
       "    }\n",
       "\n",
       "    .dataframe thead th {\n",
       "        text-align: right;\n",
       "    }\n",
       "</style>\n",
       "<table border=\"1\" class=\"dataframe\">\n",
       "  <thead>\n",
       "    <tr style=\"text-align: right;\">\n",
       "      <th></th>\n",
       "      <th>gene_id</th>\n",
       "      <th>gene_name</th>\n",
       "      <th>tissue</th>\n",
       "      <th>expression_level</th>\n",
       "    </tr>\n",
       "  </thead>\n",
       "  <tbody>\n",
       "    <tr>\n",
       "      <th>0</th>\n",
       "      <td>G001</td>\n",
       "      <td>TP53</td>\n",
       "      <td>Liver</td>\n",
       "      <td>42.0</td>\n",
       "    </tr>\n",
       "    <tr>\n",
       "      <th>1</th>\n",
       "      <td>G001</td>\n",
       "      <td>TP53</td>\n",
       "      <td>Brain</td>\n",
       "      <td>11.3</td>\n",
       "    </tr>\n",
       "    <tr>\n",
       "      <th>2</th>\n",
       "      <td>G001</td>\n",
       "      <td>TP53</td>\n",
       "      <td>Heart</td>\n",
       "      <td>23.8</td>\n",
       "    </tr>\n",
       "    <tr>\n",
       "      <th>3</th>\n",
       "      <td>G002</td>\n",
       "      <td>BRCA1</td>\n",
       "      <td>Liver</td>\n",
       "      <td>21.2</td>\n",
       "    </tr>\n",
       "    <tr>\n",
       "      <th>4</th>\n",
       "      <td>G002</td>\n",
       "      <td>BRCA1</td>\n",
       "      <td>Brain</td>\n",
       "      <td>46.8</td>\n",
       "    </tr>\n",
       "  </tbody>\n",
       "</table>\n",
       "</div>"
      ],
      "text/plain": [
       "  gene_id gene_name tissue  expression_level\n",
       "0    G001      TP53  Liver              42.0\n",
       "1    G001      TP53  Brain              11.3\n",
       "2    G001      TP53  Heart              23.8\n",
       "3    G002     BRCA1  Liver              21.2\n",
       "4    G002     BRCA1  Brain              46.8"
      ]
     },
     "execution_count": 2,
     "metadata": {},
     "output_type": "execute_result"
    }
   ],
   "source": [
    "df.columns = df.columns.str.strip().str.lower()\n",
    "df.head()"
   ]
  },
  {
   "cell_type": "code",
   "execution_count": 3,
   "id": "39be52ae-cffa-454f-9c3c-6a26554b3ffa",
   "metadata": {},
   "outputs": [
    {
     "data": {
      "text/plain": [
       "array(['Liver', 'Brain', 'Heart'], dtype=object)"
      ]
     },
     "execution_count": 3,
     "metadata": {},
     "output_type": "execute_result"
    }
   ],
   "source": [
    "df['tissue'].unique()"
   ]
  },
  {
   "cell_type": "code",
   "execution_count": 4,
   "id": "0073c5e8-045d-4a5d-b031-010086987eb7",
   "metadata": {},
   "outputs": [
    {
     "data": {
      "text/plain": [
       "gene_name\n",
       "BRCA1    37.266667\n",
       "EGFR     33.333333\n",
       "TP53     25.700000\n",
       "APOE     24.566667\n",
       "MYC      22.566667\n",
       "Name: expression_level, dtype: float64"
      ]
     },
     "execution_count": 4,
     "metadata": {},
     "output_type": "execute_result"
    }
   ],
   "source": [
    "avg_gene_expr = df.groupby('gene_name')['expression_level'].mean().sort_values(ascending = False) \n",
    "avg_gene_expr\n"
   ]
  },
  {
   "cell_type": "code",
   "execution_count": 5,
   "id": "de562005-fe28-4cd7-bd54-27d54fb17aed",
   "metadata": {},
   "outputs": [],
   "source": [
    "pivot = pd.pivot_table(df, index = 'gene_name', columns = 'tissue', values = 'expression_level') "
   ]
  },
  {
   "cell_type": "code",
   "execution_count": 6,
   "id": "ccc80063-7821-4cac-af4b-585eb39b8839",
   "metadata": {},
   "outputs": [
    {
     "data": {
      "text/html": [
       "<div>\n",
       "<style scoped>\n",
       "    .dataframe tbody tr th:only-of-type {\n",
       "        vertical-align: middle;\n",
       "    }\n",
       "\n",
       "    .dataframe tbody tr th {\n",
       "        vertical-align: top;\n",
       "    }\n",
       "\n",
       "    .dataframe thead th {\n",
       "        text-align: right;\n",
       "    }\n",
       "</style>\n",
       "<table border=\"1\" class=\"dataframe\">\n",
       "  <thead>\n",
       "    <tr style=\"text-align: right;\">\n",
       "      <th>tissue</th>\n",
       "      <th>Brain</th>\n",
       "      <th>Heart</th>\n",
       "      <th>Liver</th>\n",
       "    </tr>\n",
       "    <tr>\n",
       "      <th>gene_name</th>\n",
       "      <th></th>\n",
       "      <th></th>\n",
       "      <th></th>\n",
       "    </tr>\n",
       "  </thead>\n",
       "  <tbody>\n",
       "    <tr>\n",
       "      <th>APOE</th>\n",
       "      <td>19.9</td>\n",
       "      <td>42.5</td>\n",
       "      <td>11.3</td>\n",
       "    </tr>\n",
       "    <tr>\n",
       "      <th>BRCA1</th>\n",
       "      <td>46.8</td>\n",
       "      <td>43.8</td>\n",
       "      <td>21.2</td>\n",
       "    </tr>\n",
       "    <tr>\n",
       "      <th>EGFR</th>\n",
       "      <td>14.3</td>\n",
       "      <td>31.1</td>\n",
       "      <td>54.6</td>\n",
       "    </tr>\n",
       "    <tr>\n",
       "      <th>MYC</th>\n",
       "      <td>20.9</td>\n",
       "      <td>35.3</td>\n",
       "      <td>11.5</td>\n",
       "    </tr>\n",
       "    <tr>\n",
       "      <th>TP53</th>\n",
       "      <td>11.3</td>\n",
       "      <td>23.8</td>\n",
       "      <td>42.0</td>\n",
       "    </tr>\n",
       "  </tbody>\n",
       "</table>\n",
       "</div>"
      ],
      "text/plain": [
       "tissue     Brain  Heart  Liver\n",
       "gene_name                     \n",
       "APOE        19.9   42.5   11.3\n",
       "BRCA1       46.8   43.8   21.2\n",
       "EGFR        14.3   31.1   54.6\n",
       "MYC         20.9   35.3   11.5\n",
       "TP53        11.3   23.8   42.0"
      ]
     },
     "execution_count": 6,
     "metadata": {},
     "output_type": "execute_result"
    }
   ],
   "source": [
    "pivot"
   ]
  },
  {
   "cell_type": "code",
   "execution_count": 7,
   "id": "59539849-d5d5-4fe7-81c9-e43f4d7d4d0d",
   "metadata": {},
   "outputs": [
    {
     "data": {
      "image/png": "[encoded data removed]",
      "text/plain": [
       "<Figure size 1000x600 with 1 Axes>"
      ]
     },
     "metadata": {},
     "output_type": "display_data"
    }
   ],
   "source": [
    "import matplotlib.pyplot as plt\n",
    "\n",
    "pivot.T.plot(kind='bar',figsize=(10,6))\n",
    "\n",
    "plt.title('Gene Expression Across Tissues')\n",
    "plt.ylabel('Expression Level')\n",
    "plt.xlabel('Tissue')\n",
    "plt.grid(True)\n",
    "plt.legend(title='Gene')\n",
    "plt.tight_layout()\n",
    "plt.show()"
   ]
  },
  {
   "cell_type": "code",
   "execution_count": 8,
   "id": "1d0ffc91-f766-4252-bad5-5ac3e797a69c",
   "metadata": {},
   "outputs": [],
   "source": [
    "pivot.to_csv(\"gene_expression_summary.csv\")"
   ]
  },
  {
   "cell_type": "code",
   "execution_count": null,
   "id": "5d8f4997-8491-44da-ba0c-3f8cfcebf34e",
   "metadata": {},
   "outputs": [],
   "source": []
  }
 ],
 "metadata": {
  "kernelspec": {
   "display_name": "Python 3",
   "language": "python",
   "name": "python3"
  },
  "language_info": {
   "codemirror_mode": {
    "name": "ipython",
    "version": 3
   },
   "file_extension": ".py",
   "mimetype": "text/x-python",
   "name": "python",
   "nbconvert_exporter": "python",
   "pygments_lexer": "ipython3",
   "version": "3.13.3"
  }
 },
 "nbformat": 4,
 "nbformat_minor": 5
}
